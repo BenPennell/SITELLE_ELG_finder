{
 "cells": [
  {
   "cell_type": "code",
   "execution_count": 1,
   "metadata": {},
   "outputs": [],
   "source": [
    "from pipeline import *\n",
    "from utils import *\n",
    "\n",
    "%load_ext autoreload\n",
    "%autoreload 2"
   ]
  },
  {
   "cell_type": "code",
   "execution_count": 1,
   "metadata": {},
   "outputs": [
    {
     "name": "stdout",
     "output_type": "stream",
     "text": [
      "Read raw SITELLE datacube:  /home/qliu/data/A2390F/A2390SEC4.fits\n",
      "INFO: \n",
      "                Inconsistent SIP distortion information is present in the FITS header and the WCS object:\n",
      "                SIP coefficients were detected, but CTYPE is missing a \"-SIP\" suffix.\n",
      "                astropy.wcs is using the SIP distortion coefficients,\n",
      "                therefore the coordinates calculated here might be incorrect.\n",
      "\n",
      "                If you do not want to apply the SIP distortion coefficients,\n",
      "                please remove the SIP coefficients from the FITS header or the\n",
      "                WCS object.  As an example, if the image is already distortion-corrected\n",
      "                (e.g., drizzled) then distortion components should not apply and the SIP\n",
      "                coefficients should be removed.\n",
      "\n",
      "                While the SIP distortion coefficients are being applied here, if that was indeed the intent,\n",
      "                for consistency please append \"-SIP\" to the CTYPE in the FITS header or the WCS object.\n",
      "\n",
      "                 [astropy.wcs.wcs]\n",
      "[[7950, 8006], [8020, 8040], [8230, 8280]]  will be flagged.\n",
      "Remove background in each channel with box size 128...\n",
      "(Run background subtraction in parallel)\n",
      "Saving processed datacube and stacked field...\n",
      "\n",
      "Start iteration to clean fringes for channels: \n",
      " [ 1  2  3  4  5  6  7  8  9 10 11 12 13 14 15 16 17 18 19 20 21 22 23 24\n",
      " 25 26 27 28 29 30 31 32 33 34 35 36 37 38 39 40 41 42 43 44 45 46 47 48\n",
      " 49 50 51 52 53 54 55 56 57 58 59 60 61 62 63 64 65 66 67 68 69]\n",
      "Saving processed datacube and stacked field...\n",
      "[[7950, 8006], [8020, 8040], [8230, 8280]]  will be flagged.\n",
      "Use maximum of moving average (MMA) map to detect source.\n",
      "Box shape:  [3, 3, 5]\n",
      "Detecting and deblending source...\n",
      "Finish. Save source table as ./out/A2390C/A2390C_MMA_lpf.dat\n",
      "Extract spectra of detected sources from datacube...\n",
      "Spectra: 100%|██████████| 1655/1655 [00:52<00:00, 33.34it/s]\n",
      "\n",
      "Fit continuum for extracted spectra with Guassian Process.\n",
      "Spectra: 100%|██████████| 1655/1655 [00:05<00:00, 326.84it/s]\n",
      "Continuum Fitting & Removal Finished!\n",
      "\n",
      "Save extracted spectra as ./out/A2390C/A2390C-spec-MMA_lpf.fits\n",
      "Template: OII_gauss  Total Number: 10\n",
      "Template: Hb-OIII_gauss  Total Number: 80\n",
      "Template: Ha-NII_gauss  Total Number: 400\n",
      "Save A2390C templates for Ha-NII_gauss as Template-A2390C_Ha-NII_gauss.fits\n",
      "Save A2390C templates for Hb-OIII_gauss as Template-A2390C_Hb-OIII_gauss.fits\n",
      "Save A2390C templates for OII_gauss as Template-A2390C_OII_gauss.fits\n",
      "Read Emission Line Template:\n",
      "['./out/template/Template-A2390C_Ha-NII_gauss.fits',\n",
      " './out/template/Template-A2390C_Hb-OIII_gauss.fits',\n",
      " './out/template/Template-A2390C_OII_gauss.fits']\n",
      "Do cross-correlation using Ha-NII_gauss model templates...\n",
      "Do cross-correlation using Hb-OIII_gauss model templates...\n",
      "Do cross-correlation using OII_gauss model templates...\n",
      "Cross-correlation Finished!\n",
      "\n",
      "Save cross-correlation results for A2390C as : ./out/A2390C/A2390C-cc-MMA_lpf.pkl\n",
      "Template used: ['Ha-NII_gauss', 'Hb-OIII_gauss', 'OII_gauss']\n",
      "[[7950, 8006], [8020, 8040], [8230, 8280]]  will be flagged.\n",
      "Read Emission Line Template:\n",
      "['./out/template/Template-A2390C_Ha-NII_gauss.fits',\n",
      " './out/template/Template-A2390C_Hb-OIII_gauss.fits',\n",
      " './out/template/Template-A2390C_OII_gauss.fits']\n",
      "Read cross-correlation results for A2390C from : ./out/A2390C/A2390C-cc-MMA_lpf.pkl\n",
      "Template used: ['Ha-NII_gauss', 'Hb-OIII_gauss', 'OII_gauss']\n",
      "Match with SDSS DR12 stars...\n",
      "Measuring Equivalent Width for lines...\n",
      "Spectra: 100%|██████████| 1655/1655 [00:15<00:00, 108.61it/s]\n",
      "\n",
      "Separate candidates into three subsamples based on S/N.\n",
      "./out/A2390C/pic/candidate_MMA_lpf/A exists. Remove all the content.\n",
      "Candidate: 100%|██████████| 34/34 [01:50<00:00,  3.25s/it]\n",
      "./out/A2390C/pic/candidate_MMA_lpf/B exists. Remove all the content.\n",
      "Candidate: 100%|██████████| 61/61 [03:19<00:00,  3.22s/it]\n",
      "./out/A2390C/pic/candidate_MMA_lpf/C exists. Remove all the content.\n",
      "Candidate: 100%|██████████| 23/23 [00:51<00:00,  2.23s/it]\n",
      "./out/A2390C/pic/candidate_MMA_lpf/V exists. Remove all the content.\n"
     ]
    }
   ],
   "source": [
    "%run -i Find_Emission_Candidate.py \"/home/qliu/data/A2390F/A2390SEC4.fits\" -n 'A2390E' -z 0.228 -m 'MMA' -v -p -d \"/home/qliu/data/A2390F/A2390SE_C4.merged.InterferogramMerger.deep_frame.fits\""
   ]
  },
  {
   "cell_type": "code",
   "execution_count": 4,
   "metadata": {},
   "outputs": [
    {
     "name": "stdout",
     "output_type": "stream",
     "text": [
      "Skip processing raw datacube.\n",
      "Skip extraction of spectra.\n",
      "Skip building template.\n",
      "Skip cross-correlation.\n",
      "Skip ploting ELG candidate.\n",
      "Save candidate list as : ./output/A2390E/A2390E_ELG_list.txt\n"
     ]
    }
   ],
   "source": [
    "%run -i Find_Emission_Candidate.py -n 'A2390E' -w --OUT_DIR './output'"
   ]
  },
  {
   "cell_type": "code",
   "execution_count": null,
   "metadata": {},
   "outputs": [],
   "source": []
  },
  {
   "cell_type": "code",
   "execution_count": 2,
   "metadata": {},
   "outputs": [
    {
     "name": "stdout",
     "output_type": "stream",
     "text": [
      "Skip processing raw datacube.\n",
      "Skip extraction of spectra.\n",
      "Skip building template.\n",
      "Skip cross-correlation.\n",
      "[[7950, 8006], [8020, 8040], [8230, 8280]]  will be flagged.\n",
      "Read Emission Line Template:\n",
      "['./output/template/Template-A2390C_Ha-NII_gauss.fits',\n",
      " './output/template/Template-A2390C_Hb-OIII_gauss.fits',\n",
      " './output/template/Template-A2390C_OII_gauss.fits']\n",
      "Read cross-correlation results for A2390C from : ./output/A2390C/A2390C-cc-MMA_lpf.pkl\n",
      "Template used: ['Ha-NII_gauss', 'Hb-OIII_gauss', 'OII_gauss']\n",
      "Match with SDSS DR12 stars...\n",
      "Measuring Equivalent Width for lines...\n",
      "> /home/qliu/Desktop/Cluster/Find_Emission_Candidate.py(294)save_candidate()\n",
      "-> print(\"\\nSeparate candidates into three subsamples based on S/N.\")\n"
     ]
    },
    {
     "name": "stdin",
     "output_type": "stream",
     "text": [
      "(Pdb)  cond0[1686]\n"
     ]
    },
    {
     "name": "stdout",
     "output_type": "stream",
     "text": [
      "False\n"
     ]
    },
    {
     "name": "stdin",
     "output_type": "stream",
     "text": [
      "(Pdb)  edge_cond[1686]\n"
     ]
    },
    {
     "name": "stdout",
     "output_type": "stream",
     "text": [
      "True\n"
     ]
    },
    {
     "name": "stdin",
     "output_type": "stream",
     "text": [
      "(Pdb)  EW_cond[1686]\n"
     ]
    },
    {
     "name": "stdout",
     "output_type": "stream",
     "text": [
      "False\n"
     ]
    },
    {
     "name": "stdin",
     "output_type": "stream",
     "text": [
      "(Pdb)  (datacube.EWs > datacube.EW_stds)[1686[\n"
     ]
    },
    {
     "name": "stdout",
     "output_type": "stream",
     "text": [
      "*** SyntaxError: unexpected EOF while parsing\n"
     ]
    },
    {
     "name": "stdin",
     "output_type": "stream",
     "text": [
      "(Pdb)  (datacube.EWs > datacube.EW_stds)[1686]\n"
     ]
    },
    {
     "name": "stdout",
     "output_type": "stream",
     "text": [
      "False\n"
     ]
    },
    {
     "name": "stdin",
     "output_type": "stream",
     "text": [
      "(Pdb)  n\n"
     ]
    },
    {
     "name": "stdout",
     "output_type": "stream",
     "text": [
      "\n",
      "Separate candidates into three subsamples based on S/N.\n",
      "> /home/qliu/Desktop/Cluster/Find_Emission_Candidate.py(295)save_candidate()\n",
      "-> SN_cond_v = {'A':SNR_cond_A, 'B':SNR_cond_B, 'C':SNR_cond_C}\n"
     ]
    },
    {
     "name": "stdin",
     "output_type": "stream",
     "text": [
      "(Pdb)  n\n"
     ]
    },
    {
     "name": "stdout",
     "output_type": "stream",
     "text": [
      "> /home/qliu/Desktop/Cluster/Find_Emission_Candidate.py(296)save_candidate()\n",
      "-> type_v = {'A':\"Ha-NII\", 'B':\"Ha-NII\", 'C':\"Hb-OIII\"}\n"
     ]
    },
    {
     "name": "stdin",
     "output_type": "stream",
     "text": [
      "(Pdb)  c\n"
     ]
    }
   ],
   "source": [
    "%run -i Find_Emission_Candidate.py -n 'A2390C' --skip raw,spec,temp,cc"
   ]
  },
  {
   "cell_type": "code",
   "execution_count": null,
   "metadata": {},
   "outputs": [],
   "source": []
  }
 ],
 "metadata": {
  "kernelspec": {
   "display_name": "Python 3",
   "language": "python",
   "name": "python3"
  },
  "language_info": {
   "codemirror_mode": {
    "name": "ipython",
    "version": 3
   },
   "file_extension": ".py",
   "mimetype": "text/x-python",
   "name": "python",
   "nbconvert_exporter": "python",
   "pygments_lexer": "ipython3",
   "version": "3.7.3"
  }
 },
 "nbformat": 4,
 "nbformat_minor": 2
}
